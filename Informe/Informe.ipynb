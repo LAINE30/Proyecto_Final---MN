{
 "cells": [
  {
   "cell_type": "markdown",
   "metadata": {},
   "source": [
    "# ESCUELA POLITÉCNICA NACIONAL\n",
    " \n",
    "## FACULTAD DE INGENIERÍA DE SISTEMAS\n",
    "\n",
    "### INGENIERIA DE COMPUTACIÓN\n",
    "\n",
    "#### Métodos Numéricos\n",
    "\n",
    "$$\n",
    "Proyecto IB\n",
    "$$\n",
    " \n",
    "**Integrantes:**\n",
    "- Luis Mateo Coronado Laine\n",
    "- Edison Paul Quizhpe Diaz\n",
    "- Nicole Angelina Sani Giordano\n",
    "- Liam Luis Zúñiga Marín\n",
    "\n",
    "**Tema:**\n",
    "\n",
    "Aproximación\n",
    "\n",
    "**Fecha:**  \n",
    "\n",
    "### Introducción\n",
    "\n",
    "El telescopio James Webb usa un mecanismo basado en pistones lineales que permiten ajustar la orientación de un espejo secundario.\n",
    "\n",
    "Para este proyecto asumiremos una geometría simplificada de este mecanismo. Considere un telescopio con un espejo secundario de forma rectangular de largo L. El espejo secundario se orienta a través de dos pistones que se encuentran en los extremos del espejo y ajustados a una base fija en el espejo principal B. Cada pistón puede extenderse o contraerse de manera independiente. La extensión de cada pistón xi está entre los límites dmin ≤ x ≤ dmax.\n",
    "\n",
    "### Objetivos\n",
    "\n",
    "Determine la distancia de cada uno de los pistones para enfocar el telescopio a un punto P(x,y) desde el centro de la base. Recuerde que el espejo secundario debe ser perpendicular a la dirección del punto P.\n",
    "\n",
    "Realice una interfraz gráfica que muestre la orientación del espejo secundario y permita ingresar los parámetros de entrada.\n",
    "\n",
    "### Párametros de entrada\n",
    "\n",
    "### Metodología\n",
    "\n",
    "### Resultados\n",
    "\n",
    "### Conclusiones"
   ]
  }
 ],
 "metadata": {
  "language_info": {
   "name": "python"
  }
 },
 "nbformat": 4,
 "nbformat_minor": 2
}
