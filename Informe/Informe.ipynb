{
 "cells": [
  {
   "cell_type": "markdown",
   "metadata": {},
   "source": [
    "# ESCUELA POLITÉCNICA NACIONAL\n",
    " \n",
    "## FACULTAD DE INGENIERÍA DE SISTEMAS\n",
    "\n",
    "### INGENIERIA DE COMPUTACIÓN\n",
    "\n",
    "#### Métodos Numéricos\n",
    "\n",
    "$$\n",
    "Proyecto IB\n",
    "$$\n",
    " \n",
    "**Integrantes:**\n",
    "- Luis Mateo Coronado Laine\n",
    "- Edison Paul Quizhpe Diaz\n",
    "- Nicole Angelina Sani Giordano\n",
    "- Liam Luis Zúñiga Marín\n",
    "\n",
    "**Tema:**\n",
    "\n",
    "Aproximación\n",
    "\n",
    "**Fecha:**  \n",
    "\n",
    "### Objetivos\n",
    "\n",
    "Determine la distancia de cada uno de los pistones para enfocar el telescopio a un punto P(x,y) desde el centro de la base. Recuerde que el espejo secundario debe ser perpendicular a la dirección del punto P.\n",
    "\n",
    "Realice una interfraz gráfica que muestre la orientación del espejo secundario y permita ingresar los parámetros de entrada.\n",
    "\n",
    "### Introducción\n",
    "\n",
    "Para este proyecto de ahorro semanal se desarrollado un programa el cual permite que el usuario calcule la evolución de sus ahorros a lo largo del tiempo basándose en un depósito inicial, aportes periódicos, frecuencias con que se realizan dichos aportes a sus ahorros y una tasa de interés anual.\n",
    "\n",
    "Por otro lado, el programa gestiona aportes en distintas frecuencias, como semanal, mensual, bimestral y trimestral, lo que le permite adaptarse a diferentes necesidades y hábitos de ahorro de los usuarios. Además, se asegura de que los datos ingresados sean apropiados, estableciendo un depósito inicial mínimo de 50 dólares y aportes periódicos mínimos de 5 dólares.\n",
    "Finalmente, el programa calcula el saldo final para cada periodo, incorporando tanto los aportes periódicos como los intereses acumulados. Utiliza la fórmula de interés compuesto para simular el crecimiento del capital, mostrando cómo las contribuciones regulares y el interés compuesto pueden incrementar significativamente los ahorros. Los resultados se presentan de forma clara\n",
    "en una tabla y un gráfico.\n",
    "\n",
    "\n",
    "\n",
    "### Metodología\n",
    "\n",
    "### Resultados\n",
    "\n",
    "### Conclusiones"
   ]
  }
 ],
 "metadata": {
  "language_info": {
   "name": "python"
  }
 },
 "nbformat": 4,
 "nbformat_minor": 2
}
